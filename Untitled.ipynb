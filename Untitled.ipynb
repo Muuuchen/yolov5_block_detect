{
 "cells": [
  {
   "cell_type": "code",
   "execution_count": 1,
   "id": "2bd5616f",
   "metadata": {},
   "outputs": [],
   "source": [
    "import detect\n",
    "import pyrealsense2 as rs\n",
    "import numpy as np\n",
    "import cv2\n",
    "import argparse\n",
    "import torch\n",
    "from models.experimental import attempt_load\n",
    "from utils.general import check_img_size, check_requirements, check_imshow, non_max_suppression, apply_classifier, \\\n",
    "    scale_coords, xyxy2xywh, strip_optimizer, set_logging, increment_path\n",
    "from utils.torch_utils import select_device, load_classifier, time_synchronized\n"
   ]
  },
  {
   "cell_type": "code",
   "execution_count": 2,
   "id": "4df11ee3",
   "metadata": {},
   "outputs": [],
   "source": [
    "def parser():\n",
    "    parser = argparse.ArgumentParser()\n",
    "    parser.add_argument('--weights', nargs='+', type=str, default='weights/best.pt',\n",
    "                        help='model.pt path(s)')  # 更改预设以改变网络类型\n",
    "    parser.add_argument('--conf-thres', type=float, default=0.5, help='object confidence threshold')\n",
    "    parser.add_argument('--iou-thres', type=float, default=0.45, help='IOU threshold for NMS')  # 非极大值抑制 iou\n",
    "    parser.add_argument('--device', default='', help='cuda device, i.e. 0 or 0,1,2,3 or cpu')\n",
    "    parser.add_argument('--view-img', action='store_true', help='display results')\n",
    "    return parser.parse_args()"
   ]
  },
  {
   "cell_type": "code",
   "execution_count": 5,
   "id": "fe9af1a5",
   "metadata": {},
   "outputs": [
    {
     "name": "stderr",
     "output_type": "stream",
     "text": [
      "usage: ipykernel_launcher.py [-h] [--weights WEIGHTS [WEIGHTS ...]]\n",
      "                             [--conf-thres CONF_THRES] [--iou-thres IOU_THRES]\n",
      "                             [--device DEVICE] [--view-img]\n",
      "ipykernel_launcher.py: error: unrecognized arguments: -f C:\\Users\\hzysdbybyd131\\AppData\\Roaming\\jupyter\\runtime\\kernel-0a702c8b-1da5-476a-a187-4d1c22437645.json\n"
     ]
    },
    {
     "ename": "SystemExit",
     "evalue": "2",
     "output_type": "error",
     "traceback": [
      "An exception has occurred, use %tb to see the full traceback.\n",
      "\u001b[1;31mSystemExit\u001b[0m\u001b[1;31m:\u001b[0m 2\n"
     ]
    }
   ],
   "source": [
    "args = parser()\n",
    "model = attempt_load(args.weights)\n",
    "model.parameters()"
   ]
  },
  {
   "cell_type": "code",
   "execution_count": null,
   "id": "4d6f276f",
   "metadata": {},
   "outputs": [],
   "source": []
  }
 ],
 "metadata": {
  "kernelspec": {
   "display_name": "Python [conda env:pytorch]",
   "language": "python",
   "name": "conda-env-pytorch-py"
  },
  "language_info": {
   "codemirror_mode": {
    "name": "ipython",
    "version": 3
   },
   "file_extension": ".py",
   "mimetype": "text/x-python",
   "name": "python",
   "nbconvert_exporter": "python",
   "pygments_lexer": "ipython3",
   "version": "3.9.6"
  }
 },
 "nbformat": 4,
 "nbformat_minor": 5
}
